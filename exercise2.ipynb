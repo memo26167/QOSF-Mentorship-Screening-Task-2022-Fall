{
 "cells": [
  {
   "cell_type": "code",
   "execution_count": 109,
   "id": "e17abca5-8db3-4b24-b09e-9f21f759a62e",
   "metadata": {},
   "outputs": [
    {
     "name": "stderr",
     "output_type": "stream",
     "text": [
      "ibmqfactory.load_account:WARNING:2022-10-12 03:04:21,086: Credentials are already in use. The existing account in the session will be replaced.\n"
     ]
    }
   ],
   "source": [
    "import numpy as np\n",
    "import operator\n",
    "\n",
    "# Importing standard Qiskit libraries\n",
    "from qiskit import QuantumCircuit, transpile, Aer, IBMQ, execute\n",
    "from qiskit import QuantumRegister, ClassicalRegister\n",
    "from qiskit.tools.jupyter import *\n",
    "from qiskit.visualization import *\n",
    "from ibm_quantum_widgets import *\n",
    "from qiskit.providers.aer import QasmSimulator\n",
    "\n",
    "# Loading your IBM Quantum account(s)\n",
    "provider = IBMQ.load_account()"
   ]
  },
  {
   "cell_type": "markdown",
   "id": "e310bbf3-6350-4988-893c-3ed8703ac1c3",
   "metadata": {},
   "source": [
    "Task 2 Missing Number\n",
    "From a function that has as a parameter a vector of positive integers of size 2^n -1, which is missing a number, this vector can be disordered, to search for the missing number from a quantum circuit.\n",
    "\n",
    "\n",
    "def missing_number(Optional[list,array, str]: input_vector):\n",
    "\n",
    "“””\n",
    " input_vector: List, array or string that contain integer values of size 2^n -1, where are missing a number to obtain all the number 2^n \n",
    "\n",
    "Return the positive integer value that is missing in the input.\n",
    "     “””\n",
    "\n",
    "- use a framework that works with quantum circuits, qiskit, cirq, pennylane, etc. \n",
    "- define a quantum circuit to convert the vector in a quantum circuit\n",
    "- define an oracle to find the missing value\n",
    "- encoding the output value in an integer value\n",
    "- consider print your quantum circuit,\n",
    "\n",
    "\n",
    "Example:\n",
    "\n",
    "A =  missing_number([3,0,1])\n",
    "\n",
    "print(A)\n",
    "\n",
    "2\n",
    "\n",
    "Bonus: \n",
    "\n",
    "Which is the largest list that can be implemented? Identify it and describe the result\n",
    "\n",
    "References:\n",
    "\n",
    "[1] Deutsch, David, and Richard Jozsa. \"Rapid solution of problems by quantum computation.\" Proceedings of the Royal Society of London. Series A: Mathematical and Physical Sciences 439.1907 (1992): 553-558.\n",
    "[2] Bernstein, Ethan, and Umesh Vazirani. \"Quantum complexity theory.\" SIAM Journal on computing 26.5 (1997): 1411-1473.\n",
    "[3] Grover, Lov K. , \"A fast quantum mechanical algorithm for database search\", Proceedings of the 28th Annual ACM Symposium on the Theory of Computing (1996), arXiv:quant-ph/9605043\n"
   ]
  },
  {
   "cell_type": "code",
   "execution_count": 86,
   "id": "6a70ff73-a470-4dc5-8087-c559503f0955",
   "metadata": {},
   "outputs": [],
   "source": [
    "def vector_to_qc(input_vector: list):\n",
    "    ''' '''\n",
    "    n_qbits_adress = np.log(len(input_vector) + 1)/np.log(2)\n",
    "    n_qbits_adress = np.around(n_qbits_adress).astype(int)\n",
    "    adress = QuantumRegister(n_qbits_adress, 'adress')\n",
    "    flag   = QuantumRegister(1, 'flag')\n",
    "    qc = QuantumCircuit(adress, flag, name=\"input_vector\")\n",
    "    \n",
    "    for num in input_vector:\n",
    "        bits = format(num, f'#0{n_qbits_adress+2}b')[2:]\n",
    "        bits = list(bits)\n",
    "        bits = list(reversed(bits))\n",
    "        \n",
    "        for i in range(n_qbits_adress):\n",
    "            if bits[i] == '0':\n",
    "                qc.x(adress[i])\n",
    "        qc.mct(adress, flag)\n",
    "        for i in range(n_qbits_adress):\n",
    "            if bits[i] == '0':\n",
    "                qc.x(adress[i])\n",
    "        qc.barrier()\n",
    "    return qc"
   ]
  },
  {
   "cell_type": "code",
   "execution_count": 87,
   "id": "bbf843b7-b181-417a-bb07-67c04cca08c9",
   "metadata": {},
   "outputs": [
    {
     "data": {
      "image/png": "[encoded data removed]",
      "text/plain": [
       "<Figure size 744.404x204.68 with 1 Axes>"
      ]
     },
     "execution_count": 87,
     "metadata": {},
     "output_type": "execute_result"
    }
   ],
   "source": [
    "vector_to_qc([0,2,3]).draw()"
   ]
  },
  {
   "cell_type": "code",
   "execution_count": 60,
   "id": "97d12764-6908-450a-9cd2-4ef13e887269",
   "metadata": {},
   "outputs": [],
   "source": [
    "def diffuser_circ(n_qubits):\n",
    "    qbits = QuantumRegister(n_qubits)\n",
    "    qc = QuantumCircuit(qbits, name='diffuser')\n",
    "    \n",
    "    # Preparation\n",
    "    qc.h(qbits)\n",
    "    qc.barrier()\n",
    "    # S0\n",
    "    qc.x(qbits)\n",
    "    qc.h(qbits[-1])\n",
    "    qc.mcx(qbits[:-1], qbits[-1])\n",
    "    qc.h(qbits[-1])\n",
    "    qc.x(qbits)\n",
    "    # inverse Preparation\n",
    "    qc.barrier()\n",
    "    qc.h(qbits)\n",
    "    \n",
    "    return qc"
   ]
  },
  {
   "cell_type": "code",
   "execution_count": 93,
   "id": "fc5571be-fba7-484d-bfcb-161c62700fed",
   "metadata": {},
   "outputs": [],
   "source": [
    "def missing_number_circuit(input_vector: list):\n",
    "    '''\n",
    "    input_vector: List, array or string that contain integer values of size 2^n -1, where are missing a number to obtain all the number 2^n \n",
    "    '''\n",
    "    n_qbits_adress = np.log(len(input_vector) + 1)/np.log(2)\n",
    "    n_qbits_adress = np.around(n_qbits_adress).astype(int)\n",
    "    \n",
    "    flag  = QuantumRegister(1, 'flag')\n",
    "    adress  = QuantumRegister(n_qbits_adress, 'data')\n",
    "    cr    = ClassicalRegister(n_qbits_adress)\n",
    "    qc = QuantumCircuit(adress, flag, cr)\n",
    "\n",
    "    # All adress\n",
    "    qc.h(adress)\n",
    "    # Default state of flag -|-> or -1/sqrt(2)*(|0> - |1>)\n",
    "    qc.x(flag)\n",
    "    qc.h(flag)\n",
    "    qc.x(flag)\n",
    "    qc.barrier()\n",
    "    \n",
    "    oracle = vector_to_qc(input_vector)\n",
    "\n",
    "    diffuser = diffuser_circ(n_qubits = n_qbits_adress)\n",
    "\n",
    "    qc = qc.compose(oracle, adress[:] + flag[:])\n",
    "    qc.barrier()\n",
    "    qc = qc.compose(diffuser, adress[:])\n",
    "\n",
    "    qc.measure(adress, cr)\n",
    "    return qc\n",
    "    #qc.draw()"
   ]
  },
  {
   "cell_type": "code",
   "execution_count": 115,
   "id": "35a280e1-f4cf-4928-a16d-4dcd69188c09",
   "metadata": {},
   "outputs": [
    {
     "data": {
      "image/png": "[encoded data removed]",
      "text/plain": [
       "<Figure size 1625.2x565.88 with 1 Axes>"
      ]
     },
     "execution_count": 115,
     "metadata": {},
     "output_type": "execute_result"
    }
   ],
   "source": [
    "qc = missing_number_circuit([0,1,2])\n",
    "qc.draw()"
   ]
  },
  {
   "cell_type": "code",
   "execution_count": 116,
   "id": "121d2520-b480-465e-bc2c-6b46c85fa113",
   "metadata": {},
   "outputs": [],
   "source": [
    "def test_circuit(qc, shots=1000, decimal=True):\n",
    "    backend = Aer.get_backend('qasm_simulator')\n",
    "    job = execute(qc, backend=backend, shots=shots, seed_simulator=12346)\n",
    "    result = job.result()\n",
    "    count = result.get_counts()\n",
    "    if decimal:\n",
    "        count = {str(int(key, 2)):value for key,value in count.items()}\n",
    "    return count"
   ]
  },
  {
   "cell_type": "code",
   "execution_count": 117,
   "id": "d0d26725-c829-4b81-aa99-b390039fae43",
   "metadata": {},
   "outputs": [
    {
     "data": {
      "text/plain": [
       "{'3': 8000}"
      ]
     },
     "execution_count": 117,
     "metadata": {},
     "output_type": "execute_result"
    }
   ],
   "source": [
    "test_circuit(qc, shots=8000)"
   ]
  },
  {
   "cell_type": "code",
   "execution_count": 118,
   "id": "e36d7b4d-aabd-46f2-93cb-d9db7b6e8bb4",
   "metadata": {},
   "outputs": [
    {
     "data": {
      "image/png": "[encoded data removed]",
      "text/plain": [
       "<Figure size 360x288 with 1 Axes>"
      ]
     },
     "execution_count": 118,
     "metadata": {},
     "output_type": "execute_result"
    }
   ],
   "source": [
    "plot_histogram(test_circuit(qc, shots=8000), figsize=(5,4))"
   ]
  },
  {
   "cell_type": "code",
   "execution_count": 142,
   "id": "b76a7f6f-aab0-4e26-82fe-a9053cb23828",
   "metadata": {},
   "outputs": [],
   "source": [
    "def missing_number(input_vector: list):\n",
    "    '''\n",
    "    input_vector: List, array or string that contain integer values of size 2^n -1, where are missing a number to obtain all the number 2^n.\n",
    "    Return the positive integer value that is missing in the input.\n",
    "    '''\n",
    "    qc = missing_number_circuit(input_vector)\n",
    "    shots = 1000 * len(input_vector)\n",
    "    count = test_circuit(qc, shots=1000, decimal=True)\n",
    "    return max(count.items(), key=operator.itemgetter(1))[0]"
   ]
  },
  {
   "cell_type": "code",
   "execution_count": 144,
   "id": "42798f78-af74-454c-8c21-2e6b1d86db29",
   "metadata": {},
   "outputs": [
    {
     "data": {
      "text/plain": [
       "'1'"
      ]
     },
     "execution_count": 144,
     "metadata": {},
     "output_type": "execute_result"
    }
   ],
   "source": [
    "missing_number([0,2,3,4,5,6,7,8,9,10,11,12,13,14,15])"
   ]
  },
  {
   "cell_type": "markdown",
   "id": "127f2fcb-1ea4-482a-9640-fe2fe432f478",
   "metadata": {},
   "source": [
    "# Which is the largest list that can be implemented?\n",
    "Supposing 127 qubits (IBM Eagle) as the largest quantum computer to this day (Oct 2022), then:\n",
    "\n",
    "We need 1 qubit for the flag, leaving 126 qubits for encoding the list of numbers."
   ]
  },
  {
   "cell_type": "code",
   "execution_count": 5,
   "id": "dbc1f52e-6b90-47bd-9211-24dc62637d4b",
   "metadata": {},
   "outputs": [
    {
     "data": {
      "text/plain": [
       "85070591730234615865843651857942052864"
      ]
     },
     "execution_count": 5,
     "metadata": {},
     "output_type": "execute_result"
    }
   ],
   "source": [
    "2**126"
   ]
  },
  {
   "cell_type": "markdown",
   "id": "e6f5724d-9543-45b6-8a75-44b974b7a924",
   "metadata": {},
   "source": [
    "85070591730234615865843651857942052864 is the biggest number that can be encoded.\n",
    "\n",
    "Therefore, if we assume starting at 0, we can encode a list of length of that number, minus 1."
   ]
  },
  {
   "cell_type": "code",
   "execution_count": 8,
   "id": "143a97c9-5abf-42c0-abbc-02ef11ac0233",
   "metadata": {},
   "outputs": [
    {
     "data": {
      "text/html": [
       "<h3>Version Information</h3><table><tr><th>Qiskit Software</th><th>Version</th></tr><tr><td><code>qiskit-terra</code></td><td>0.21.1</td></tr><tr><td><code>qiskit-aer</code></td><td>0.10.4</td></tr><tr><td><code>qiskit-ibmq-provider</code></td><td>0.19.2</td></tr><tr><td><code>qiskit</code></td><td>0.37.1</td></tr><tr><td><code>qiskit-nature</code></td><td>0.4.2</td></tr><tr><td><code>qiskit-finance</code></td><td>0.3.3</td></tr><tr><td><code>qiskit-optimization</code></td><td>0.4.0</td></tr><tr><td><code>qiskit-machine-learning</code></td><td>0.4.0</td></tr><tr><th>System information</th></tr><tr><td>Python version</td><td>3.8.13</td></tr><tr><td>Python compiler</td><td>GCC 10.3.0</td></tr><tr><td>Python build</td><td>default, Mar 25 2022 06:04:10</td></tr><tr><td>OS</td><td>Linux</td></tr><tr><td>CPUs</td><td>8</td></tr><tr><td>Memory (Gb)</td><td>31.21131134033203</td></tr><tr><td colspan='2'>Wed Oct 12 02:11:05 2022 UTC</td></tr></table>"
      ],
      "text/plain": [
       "<IPython.core.display.HTML object>"
      ]
     },
     "metadata": {},
     "output_type": "display_data"
    }
   ],
   "source": [
    "import qiskit.tools.jupyter\n",
    "%qiskit_version_table"
   ]
  }
 ],
 "metadata": {
  "kernelspec": {
   "display_name": "Python 3 (ipykernel)",
   "language": "python",
   "name": "python3"
  },
  "language_info": {
   "codemirror_mode": {
    "name": "ipython",
    "version": 3
   },
   "file_extension": ".py",
   "mimetype": "text/x-python",
   "name": "python",
   "nbconvert_exporter": "python",
   "pygments_lexer": "ipython3",
   "version": "3.8.13"
  },
  "widgets": {
   "application/vnd.jupyter.widget-state+json": {
    "state": {},
    "version_major": 2,
    "version_minor": 0
   }
  }
 },
 "nbformat": 4,
 "nbformat_minor": 5
}
